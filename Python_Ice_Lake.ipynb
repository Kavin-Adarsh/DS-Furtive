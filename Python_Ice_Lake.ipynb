{
 "cells": [
  {
   "cell_type": "code",
   "execution_count": null,
   "id": "c1afc66d",
   "metadata": {},
   "outputs": [],
   "source": [
    "# This file contains some of the python programs\n",
    "# Function in python\n",
    "# Exception handling is not implemented"
   ]
  },
  {
   "cell_type": "code",
   "execution_count": 1,
   "id": "598ef7b4",
   "metadata": {},
   "outputs": [
    {
     "data": {
      "text/plain": [
       "12"
      ]
     },
     "execution_count": 1,
     "metadata": {},
     "output_type": "execute_result"
    }
   ],
   "source": [
    "# 1. Define a python function which will take a string and return its len without using inbuilt function len\n",
    "\n",
    "\n",
    "def length(str1):\n",
    "    l = 0\n",
    "    for item in str1:\n",
    "        l+=1\n",
    "    return l\n",
    "\n",
    "\n",
    "length(\"Kavin Adarsh\")"
   ]
  },
  {
   "cell_type": "code",
   "execution_count": 2,
   "id": "4ea5235c",
   "metadata": {},
   "outputs": [
    {
     "data": {
      "text/plain": [
       "['K index is  0', 'n index is  4']"
      ]
     },
     "execution_count": 2,
     "metadata": {},
     "output_type": "execute_result"
    }
   ],
   "source": [
    "# 2. Python function which will be able to print all primitive element which will be passed\n",
    "\n",
    "\n",
    "def index(str1, *primitive):\n",
    "    ind = []\n",
    "    i = \"\"\n",
    "    for item in primitive:\n",
    "        if item in str1:\n",
    "            i = item + \" index is  \" + str(str1.index(item))\n",
    "            ind.append(i)\n",
    "        else:\n",
    "            i = \"Item\" + item + \"not found\"\n",
    "            ind.append(i)\n",
    "    return ind\n",
    "         \n",
    "    \n",
    "index(\"Kavin\", \"K\", \"n\")"
   ]
  },
  {
   "cell_type": "code",
   "execution_count": 3,
   "id": "963c027c",
   "metadata": {},
   "outputs": [
    {
     "data": {
      "text/plain": [
       "['Kavin', 'Adarsh', 'Kavin Adarsh']"
      ]
     },
     "execution_count": 3,
     "metadata": {},
     "output_type": "execute_result"
    }
   ],
   "source": [
    "# 3. Python function which will take input as dictionary and output as list even if it is 2 level nested\n",
    "\n",
    "\n",
    "def lister(d):\n",
    "    l = []\n",
    "    for i in d:\n",
    "        if type(d[i]) != dict:\n",
    "            l.append(d[i])\n",
    "        else:\n",
    "            l.append(str(d[i].values())[14:-3])\n",
    "    return l\n",
    "\n",
    "\n",
    "d = {1:\"Kavin\", 2:\"Adarsh\", 3:{4:\"Kavin Adarsh\"}}\n",
    "\n",
    "lister(d)\n",
    "\n"
   ]
  },
  {
   "cell_type": "code",
   "execution_count": 4,
   "id": "f5070c18",
   "metadata": {},
   "outputs": [
    {
     "data": {
      "text/plain": [
       "100"
      ]
     },
     "execution_count": 4,
     "metadata": {},
     "output_type": "execute_result"
    }
   ],
   "source": [
    "# 4. Python function which will take another function as input and return output\n",
    "\n",
    "\n",
    "def square(a):\n",
    "    a **= 2\n",
    "    return a\n",
    "\n",
    "\n",
    "def helper(f):\n",
    "    return f\n",
    "\n",
    "\n",
    "helper(square(10))\n"
   ]
  },
  {
   "cell_type": "code",
   "execution_count": 5,
   "id": "137a02c8",
   "metadata": {},
   "outputs": [
    {
     "data": {
      "text/plain": [
       "'I am intellect billionaire playboy philanthropist '"
      ]
     },
     "execution_count": 5,
     "metadata": {},
     "output_type": "execute_result"
    }
   ],
   "source": [
    "# 5. Python function which will take list as input and concatenation of all the elements\n",
    "\n",
    "\n",
    "def concat(l):\n",
    "    s = \"\"\n",
    "    for i in l:\n",
    "        s += i + \" \"\n",
    "    return s\n",
    "\n",
    "\n",
    "l = [\"I\", \"am\", \"intellect\", \"billionaire\", \"playboy\", \"philanthropist\"]\n",
    "\n",
    "concat(l)\n"
   ]
  },
  {
   "cell_type": "code",
   "execution_count": 6,
   "id": "72e9b21a",
   "metadata": {},
   "outputs": [
    {
     "data": {
      "text/plain": [
       "['1 index is 0',\n",
       " '2 index is 1',\n",
       " '3 index is 2',\n",
       " '4 index is 3',\n",
       " '5 index is 4',\n",
       " '6 index is 5',\n",
       " '7 index is 6',\n",
       " '7 index is 6']"
      ]
     },
     "execution_count": 6,
     "metadata": {},
     "output_type": "execute_result"
    }
   ],
   "source": [
    "# 6. Function which will take list as input and its index as output even its duplicates\n",
    "\n",
    "\n",
    "def index(l):\n",
    "    t = []\n",
    "    for i in l:\n",
    "        t.append(str(i) + ' index is ' + str(l.index(i)))\n",
    "    return t\n",
    "\n",
    "\n",
    "l = [1, 2, 3, 4, 5, 6, 7, 7]\n",
    "\n",
    "index(l)"
   ]
  },
  {
   "cell_type": "code",
   "execution_count": 7,
   "id": "5ed553e4",
   "metadata": {},
   "outputs": [
    {
     "data": {
      "text/plain": [
       "['apple.txt',\n",
       " 'Classes.ipynb',\n",
       " 'Exceptional.ipynb',\n",
       " 'functions+.ipynb',\n",
       " 'iterator.ipynb',\n",
       " 'main.py',\n",
       " 'math1.py',\n",
       " 'note.ipynb',\n",
       " 'oops.ipynb',\n",
       " '__pycache__',\n",
       " 'python-1.ipynb',\n",
       " 'python-2.ipynb',\n",
       " 'Python_Ice_Lake.ipynb',\n",
       " 'test1.py.bak',\n",
       " 'test1.py.txt',\n",
       " 'test1.txt',\n",
       " 'Untitled1.ipynb',\n",
       " 'Untitled2.ipynb',\n",
       " 'Untitled3.ipynb',\n",
       " 'Untitled4.ipynb',\n",
       " 'Untitled.ipynb',\n",
       " 'venv']"
      ]
     },
     "execution_count": 7,
     "metadata": {},
     "output_type": "execute_result"
    }
   ],
   "source": [
    "# 7. Python function to return all the filenames from a directory \n",
    "\n",
    "\n",
    "def filename():\n",
    "    f = !ls\n",
    "    return f\n",
    "\n",
    "\n",
    "filename()"
   ]
  },
  {
   "cell_type": "code",
   "execution_count": 8,
   "id": "1f4ce864",
   "metadata": {},
   "outputs": [
    {
     "data": {
      "text/plain": [
       "['System: Linux',\n",
       " 'Node Name: oreo-Vostro-3480',\n",
       " 'Release: 5.4.0-96-generic',\n",
       " 'Version: #109~18.04.1-Ubuntu SMP Thu Jan 13 15:06:26 UTC 2022',\n",
       " 'Machine: x86_64',\n",
       " 'Processor: x86_64']"
      ]
     },
     "execution_count": 8,
     "metadata": {},
     "output_type": "execute_result"
    }
   ],
   "source": [
    "# 8. Python function to show system configuration\n",
    "\n",
    "import platform\n",
    " \n",
    "my_system = platform.uname()\n",
    "\n",
    "\n",
    "def my_spec():\n",
    "    my_spec = []\n",
    "    ms = my_system\n",
    "    my_spec.append(f\"System: {ms.system}\")\n",
    "    my_spec.append(f\"Node Name: {ms.node}\")\n",
    "    my_spec.append(f\"Release: {ms.release}\")\n",
    "    my_spec.append(f\"Version: {ms.version}\")\n",
    "    my_spec.append(f\"Machine: {ms.machine}\")\n",
    "    my_spec.append(f\"Processor: {ms.processor}\")\n",
    "    return my_spec\n",
    "    \n",
    "    \n",
    "my_spec()"
   ]
  },
  {
   "cell_type": "code",
   "execution_count": 9,
   "id": "22d06d93",
   "metadata": {},
   "outputs": [
    {
     "data": {
      "text/plain": [
       "'Sun Jan 30 00:13:25 2022'"
      ]
     },
     "execution_count": 9,
     "metadata": {},
     "output_type": "execute_result"
    }
   ],
   "source": [
    "# 9. Python function to show date and time\n",
    "\n",
    "import time\n",
    "\n",
    "\n",
    "def show_time():\n",
    "    return time.ctime()\n",
    "\n",
    "\n",
    "show_time()"
   ]
  },
  {
   "cell_type": "code",
   "execution_count": null,
   "id": "9d7a4ded",
   "metadata": {},
   "outputs": [],
   "source": [
    "# 10. Python function to read image file and view it\n",
    "\n",
    "from PIL import Image\n",
    "\n",
    "\n",
    "def open_img(i):\n",
    "    return Image.open(i).show()\n",
    "\n",
    "\n",
    "i = \"/home/oreo/Pictures/Wallpapers/pexels-errin-casano-2356045.jpg\"\n",
    "open_img(i)\n"
   ]
  },
  {
   "cell_type": "code",
   "execution_count": null,
   "id": "2c8f7ff2",
   "metadata": {},
   "outputs": [],
   "source": [
    "# 11. Function to read a video file and play it\n",
    "\n",
    "import cv2\n",
    "\n",
    "\n",
    "def play_vid(v):\n",
    "    cap = cv2.VideoCapture(v)\n",
    "    ret, frame = cap.read()\n",
    "    while(1):\n",
    "        ret, frame = cap.read()\n",
    "        cv2.imshow('frame',frame)\n",
    "        if cv2.waitKey(1) & 0xFF == ord('q') or ret==False :\n",
    "            cap.release()\n",
    "            cv2.destroyAllWindows()\n",
    "            break\n",
    "        cv2.imshow('frame',frame)\n",
    "        \n",
    "        \n",
    "v = \"somefile.mp4\"\n",
    "\n",
    "play_vid(v) #not working properly :("
   ]
  },
  {
   "cell_type": "code",
   "execution_count": 12,
   "id": "fa0679ed",
   "metadata": {},
   "outputs": [
    {
     "data": {
      "text/plain": [
       "'/home/oreo/Desktop/Screenshot from 2021-08-06 21-38-48.png'"
      ]
     },
     "execution_count": 12,
     "metadata": {},
     "output_type": "execute_result"
    }
   ],
   "source": [
    "# 12. Function to move a file from one directory to another        \n",
    "        \n",
    "import shutil\n",
    "\n",
    "\n",
    "def move(f,t):\n",
    "    return shutil.move(f, t)\n",
    "    \n",
    "\n",
    "from_path = r\"/home/oreo/Pictures/Screenshot from 2021-08-06 21-38-48.png\"\n",
    "to_path = r\"/home/oreo/Desktop/Screenshot from 2021-08-06 21-38-48.png\"\n",
    "\n",
    "move(from_path, to_path)\n",
    "\n",
    "\n"
   ]
  },
  {
   "cell_type": "code",
   "execution_count": null,
   "id": "272fac40",
   "metadata": {},
   "outputs": [],
   "source": [
    "# 13. Python function to shutdown\n",
    "\n",
    "import os\n",
    "\n",
    "\n",
    "def shutdown():\n",
    "    os.system(\"systemctl poweroff\")    \n",
    "    \n",
    "\n",
    "shutdown() #precaution it works!!!"
   ]
  },
  {
   "cell_type": "code",
   "execution_count": null,
   "id": "18eac045",
   "metadata": {},
   "outputs": [],
   "source": [
    "# 14. Python function to access mail\n",
    "\n",
    "import imaplib\n",
    "import base64 \n",
    "\n",
    "def mail(usr, pwd):\n",
    "    M = imaplib.IMAP4_SSL('imap-mail.outlook.com', 993)\n",
    "    M.login(usr, pwd)\n",
    "    M.select()\n",
    "    typ, data = M.search(None, 'ALL')\n",
    "    for num in data[0].split():\n",
    "        typ, data = M.fetch(num, '(RFC822)')\n",
    "        print('Message %s\\n%s\\n' % (num, data[0][1]))\n",
    "    M.close()\n",
    "    M.logout()\n",
    "\n",
    "usr = input('Email: ')\n",
    "pwd = input('Password: ')\n",
    "\n",
    "\n",
    "mail(usr, pwd)\n",
    "\n",
    "\n"
   ]
  },
  {
   "cell_type": "code",
   "execution_count": 14,
   "id": "9506ca86",
   "metadata": {},
   "outputs": [
    {
     "name": "stdout",
     "output_type": "stream",
     "text": [
      "WARNING: Since this method is not secured try only with outlook.\n",
      "From mail: urmail\n",
      "From mail password: urpass\n",
      "To mail: tomail\n",
      "Message: Hi! you can't find my password here.\n"
     ]
    }
   ],
   "source": [
    "# 15. Python function to send mail\n",
    "\n",
    "import smtplib\n",
    "\n",
    "\n",
    "def send_mail(from_mail, from_pwd, to_mail, message):\n",
    "    try:\n",
    "        smtp = smtplib.SMTP('smtp.outlook.com', 587) #Since gmail is very secured it doesn't work!\n",
    "        smtp.starttls() \n",
    "        smtp.login(from_mail,from_pwd)\n",
    "        smtp.sendmail(from_mail, to_mail, message) \n",
    "        smtp.quit() \n",
    "        print (\"Email sent successfully!\") \n",
    "\n",
    "    except Exception as ex: \n",
    "        print(\"Something went wrong....\",ex)\n",
    "\n",
    "    \n",
    "    \n",
    "print(\"WARNING: Since this method is not secured try only with outlook.\")\n",
    "fm = input(\"From mail: \")\n",
    "fp = input(\"From mail password: \")\n",
    "tm = input(\"To mail: \")\n",
    "ms = input(\"Message: \")\n",
    "ms = f'''{ms}'''\n",
    "\n",
    "send_mail(fm, fp, tm, ms)"
   ]
  },
  {
   "cell_type": "code",
   "execution_count": 16,
   "id": "0a1ecc40",
   "metadata": {},
   "outputs": [
    {
     "name": "stdout",
     "output_type": "stream",
     "text": [
      "I am inevitable!\n",
      "And I am IronMan!\n",
      "And I am groot!\n",
      "And I am Kavin Adarsh!!!\n",
      "\n"
     ]
    }
   ],
   "source": [
    "# 16. Python function to read pdf\n",
    "\n",
    "import PyPDF2\n",
    "\n",
    "\n",
    "def pdf_reader(path):\n",
    "    pdfFileObj = open(path, 'rb')\n",
    "    pdfReader = PyPDF2.PdfFileReader(pdfFileObj)\n",
    "    print(pdfReader.numPages)\n",
    "    pageObj = pdfReader.getPage(0)\n",
    "    print(pageObj.extractText())\n",
    "    pdfFileObj.close()\n",
    "    \n",
    "\n",
    "path = '/home/oreo/Desktop/avengers.pdf'\n",
    "pdf_reader(path)"
   ]
  },
  {
   "cell_type": "code",
   "execution_count": 19,
   "id": "a95b53a0",
   "metadata": {},
   "outputs": [
    {
     "data": {
      "text/plain": [
       "'\\ufeffHello Everyone, this is kavin, there is nothing in this doc just testing!\\n'"
      ]
     },
     "execution_count": 19,
     "metadata": {},
     "output_type": "execute_result"
    }
   ],
   "source": [
    "# 17. Python function to read word file\n",
    "\n",
    "def word_reader(path):\n",
    "    f = open(path, 'r')\n",
    "    r = f.read() # r is a supporting variable\n",
    "    f.close()\n",
    "    return r\n",
    "\n",
    "\n",
    "path = '/home/oreo/Desktop/yourfile.doc'\n",
    "word_reader(path)"
   ]
  },
  {
   "cell_type": "code",
   "execution_count": 23,
   "id": "fac83067",
   "metadata": {},
   "outputs": [
    {
     "data": {
      "text/plain": [
       "['my.doc', 'their.doc', 'yourfile.doc']"
      ]
     },
     "execution_count": 23,
     "metadata": {},
     "output_type": "execute_result"
    }
   ],
   "source": [
    "# 18. Python function to filter word file from a directory\n",
    "\n",
    "import os\n",
    "\n",
    "\n",
    "def doc_finder(path):  # document finder\n",
    "    l = []\n",
    "    files = os.listdir(path)\n",
    "    for i in  files:\n",
    "        if i[-1:-4:-1] == 'cod':\n",
    "            l.append(i)\n",
    "    return l\n",
    "\n",
    "\n",
    "doc_finder('/home/oreo/Desktop/')\n"
   ]
  },
  {
   "cell_type": "code",
   "execution_count": null,
   "id": "173d478d",
   "metadata": {},
   "outputs": [],
   "source": [
    "# 19. Python function to print ip address of my system\n",
    "\n",
    "import socket\n",
    "\n",
    "\n",
    "def my_ip():\n",
    "     return socket.gethostbyname(socket.gethostname())\n",
    "\n",
    "    \n",
    "my_ip()"
   ]
  },
  {
   "cell_type": "code",
   "execution_count": null,
   "id": "c13d6468",
   "metadata": {},
   "outputs": [],
   "source": [
    "# 20. Python function to print ip address of my system\n",
    "\n",
    "from PyPDF2 import PdfFileMerger\n",
    "\n",
    "pdfs = ['kavin.pdf', 'nitin.pdf']\n",
    "\n",
    "\n",
    "def pdf_combiner(pdf):\n",
    "    merger = PdfFileMerger()\n",
    "    for pdf in pdfs:\n",
    "        try:\n",
    "            merger.append(pdf)\n",
    "            merger.write(\"/home/oreo/Desktop/kavtin.pdf\")\n",
    "        except Exception as e:\n",
    "            pass\n",
    "    merger.close()\n",
    "\n",
    "    \n",
    "pdf_combiner(pdfs)"
   ]
  }
 ],
 "metadata": {
  "kernelspec": {
   "display_name": "Python 3",
   "language": "python",
   "name": "python3"
  },
  "language_info": {
   "codemirror_mode": {
    "name": "ipython",
    "version": 3
   },
   "file_extension": ".py",
   "mimetype": "text/x-python",
   "name": "python",
   "nbconvert_exporter": "python",
   "pygments_lexer": "ipython3",
   "version": "3.8.8"
  }
 },
 "nbformat": 4,
 "nbformat_minor": 5
}
